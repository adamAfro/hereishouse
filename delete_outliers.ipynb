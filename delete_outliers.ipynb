{
 "cells": [
  {
   "cell_type": "code",
   "execution_count": null,
   "metadata": {},
   "outputs": [],
   "source": [
    "###DANE TO DOWOLNA RAMKA DODAJ JĄ NA POCZĄTKU!!!###\n",
    "\n",
    "\n",
    "import pandas as pd\n",
    "import numpy as np\n",
    "from sklearn.covariance import EllipticEnvelope\n",
    "\n",
    "\n",
    "###TUTAJ DODAJ RAMKKĘ DANYCH POD NAZWĘ DANE!!!!###\n",
    "\n",
    "\n",
    "def is_numeric(column):\n",
    "    try:\n",
    "        pd.to_numeric(column)\n",
    "        return True\n",
    "    except:\n",
    "        return False\n",
    "    \n",
    "\n",
    "for_numeric = []\n",
    "for i in range(len(dane.columns)):\n",
    "    for_numeric.append(is_numeric(dane.iloc[:,i]))\n",
    "\n",
    "\n",
    "df_only_numeric = dane.iloc[:,for_numeric]\n",
    "\n",
    "for i in range(len(df_only_numeric.columns)):\n",
    "    df_only_numeric.iloc[:,i].fillna(np.mean(df_only_numeric.iloc[:,i]), inplace=True)\n",
    "\n",
    "\n",
    "envelope = EllipticEnvelope(contamination=0.25)  \n",
    "\n",
    "\n",
    "envelope.fit(df_only_numeric)\n",
    "\n",
    "\n",
    "predictions = envelope.predict(df_only_numeric)\n",
    "\n",
    "\n",
    "pred = np.where(predictions == 1, True, False)\n",
    "\n",
    "\n",
    "df_witout_outliers = dane.iloc[pred,:]\n",
    "df_witout_outliers"
   ]
  }
 ],
 "metadata": {
  "kernelspec": {
   "display_name": "Python 3",
   "language": "python",
   "name": "python3"
  },
  "language_info": {
   "name": "python",
   "version": "3.12.0"
  }
 },
 "nbformat": 4,
 "nbformat_minor": 2
}
