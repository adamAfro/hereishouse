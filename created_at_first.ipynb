{
 "cells": [
  {
   "cell_type": "markdown",
   "id": "3c513470-c28d-4ddc-9900-9cdf5fb9ed2f",
   "metadata": {},
   "source": [
    "## Zamiana created_at_first na typ datetime"
   ]
  },
  {
   "cell_type": "code",
   "execution_count": 1,
   "id": "68189fd1-bc6f-43c3-be29-fee434dda8c5",
   "metadata": {},
   "outputs": [],
   "source": [
    "import pandas as pd\n",
    "from datetime import datetime"
   ]
  },
  {
   "cell_type": "code",
   "execution_count": 21,
   "id": "50fc912d-11be-48e2-ac7b-331171d668f1",
   "metadata": {},
   "outputs": [],
   "source": [
    "df = pd.read_csv('C:\\\\Users\\\\48509\\\\Desktop\\\\V_semestr\\\\ATLAS\\\\train.csv')"
   ]
  },
  {
   "cell_type": "code",
   "execution_count": 22,
   "id": "d5c80a9f-3716-403c-aebc-59ed41ddc3ff",
   "metadata": {},
   "outputs": [
    {
     "name": "stdout",
     "output_type": "stream",
     "text": [
      "<class 'pandas.core.frame.DataFrame'>\n",
      "RangeIndex: 832011 entries, 0 to 832010\n",
      "Data columns (total 11 columns):\n",
      " #   Column            Non-Null Count   Dtype  \n",
      "---  ------            --------------   -----  \n",
      " 0   id                832011 non-null  int64  \n",
      " 1   created_at_first  832011 non-null  object \n",
      " 2   category          832011 non-null  object \n",
      " 3   is_business       832011 non-null  int64  \n",
      " 4   district_id       537760 non-null  float64\n",
      " 5   city_id           832011 non-null  int64  \n",
      " 6   region_id         832011 non-null  int64  \n",
      " 7   description       832011 non-null  object \n",
      " 8   params            832011 non-null  object \n",
      " 9   title             692252 non-null  object \n",
      " 10  price             832011 non-null  int64  \n",
      "dtypes: float64(1), int64(5), object(5)\n",
      "memory usage: 69.8+ MB\n"
     ]
    }
   ],
   "source": [
    "df.info()"
   ]
  },
  {
   "cell_type": "code",
   "execution_count": 23,
   "id": "f41c46ba-e099-4444-81b3-f9f8daa2d4da",
   "metadata": {},
   "outputs": [
    {
     "data": {
      "text/plain": [
       "0   2018-10-06 12:20:48\n",
       "1   2019-02-18 12:17:51\n",
       "2   2019-03-21 17:31:09\n",
       "3   2018-11-28 23:50:45\n",
       "4   2019-01-22 21:22:42\n",
       "Name: created_at_first, dtype: datetime64[ns]"
      ]
     },
     "execution_count": 23,
     "metadata": {},
     "output_type": "execute_result"
    }
   ],
   "source": [
    "nowa = pd.to_datetime(df[\"created_at_first\"])\n",
    "nowa.head()"
   ]
  },
  {
   "cell_type": "code",
   "execution_count": 27,
   "id": "33642203-3130-4a96-bbfe-3db7d31fca36",
   "metadata": {},
   "outputs": [
    {
     "data": {
      "text/plain": [
       "2019"
      ]
     },
     "execution_count": 27,
     "metadata": {},
     "output_type": "execute_result"
    }
   ],
   "source": [
    "nowa.iloc[1].year"
   ]
  },
  {
   "cell_type": "code",
   "execution_count": 13,
   "id": "a56dbf16-19cc-494b-b5a4-6ddce7676647",
   "metadata": {},
   "outputs": [],
   "source": [
    "# sposob pierwszy to dodanie nowej kolumny, zeby tamtej nie stracic, ale w sumie nie wiem czy to sie do czegos przyda\n",
    "#df[\"date_time\"] = nowa"
   ]
  },
  {
   "cell_type": "code",
   "execution_count": 31,
   "id": "0df28dd7-5977-41c6-b46a-a2b0396a3178",
   "metadata": {},
   "outputs": [],
   "source": [
    "# drugi sposob to po prostu zamiana i zostaje tyle samo kolumn, nie robi sie smietnik z ramki danych\n",
    "#df[\"created_at_first\"] = nowa"
   ]
  },
  {
   "cell_type": "code",
   "execution_count": 29,
   "id": "e43adaa3-3ee7-4d78-ac12-cdda0dbc5212",
   "metadata": {},
   "outputs": [
    {
     "name": "stdout",
     "output_type": "stream",
     "text": [
      "<class 'pandas.core.frame.DataFrame'>\n",
      "RangeIndex: 832011 entries, 0 to 832010\n",
      "Data columns (total 11 columns):\n",
      " #   Column            Non-Null Count   Dtype         \n",
      "---  ------            --------------   -----         \n",
      " 0   id                832011 non-null  int64         \n",
      " 1   created_at_first  832011 non-null  datetime64[ns]\n",
      " 2   category          832011 non-null  object        \n",
      " 3   is_business       832011 non-null  int64         \n",
      " 4   district_id       537760 non-null  float64       \n",
      " 5   city_id           832011 non-null  int64         \n",
      " 6   region_id         832011 non-null  int64         \n",
      " 7   description       832011 non-null  object        \n",
      " 8   params            832011 non-null  object        \n",
      " 9   title             692252 non-null  object        \n",
      " 10  price             832011 non-null  int64         \n",
      "dtypes: datetime64[ns](1), float64(1), int64(5), object(4)\n",
      "memory usage: 69.8+ MB\n"
     ]
    }
   ],
   "source": [
    "df.info()"
   ]
  }
 ],
 "metadata": {
  "kernelspec": {
   "display_name": "Python 3 (ipykernel)",
   "language": "python",
   "name": "python3"
  },
  "language_info": {
   "codemirror_mode": {
    "name": "ipython",
    "version": 3
   },
   "file_extension": ".py",
   "mimetype": "text/x-python",
   "name": "python",
   "nbconvert_exporter": "python",
   "pygments_lexer": "ipython3",
   "version": "3.9.13"
  }
 },
 "nbformat": 4,
 "nbformat_minor": 5
}
