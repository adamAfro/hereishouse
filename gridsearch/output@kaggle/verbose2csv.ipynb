{
 "cells": [
  {
   "cell_type": "markdown",
   "metadata": {},
   "source": [
    "Tutaj wrzucałem outputy z kaggla, CSVki i txt, bo czasami nie wychodziła próba, alee\n",
    "jak da sie verbose przy grid search to wypisuje tekst na bieżąco i można to przeparsować\n",
    "i wykorzystać"
   ]
  },
  {
   "cell_type": "code",
   "execution_count": 107,
   "metadata": {},
   "outputs": [],
   "source": [
    "name = '?'\n",
    "     #  ^ tutaj nazwa pliku do wpisania"
   ]
  },
  {
   "cell_type": "code",
   "execution_count": 108,
   "metadata": {},
   "outputs": [],
   "source": [
    "string = None\n",
    "with open(f'{name}.txt', 'r') as file:\n",
    "    string = file.read()"
   ]
  },
  {
   "cell_type": "code",
   "execution_count": 109,
   "metadata": {},
   "outputs": [],
   "source": [
    "import re\n",
    "\n",
    "def parse_data(data_string):\n",
    "    pattern = r\"ccp_alpha=(\\d+\\.\\d+), max_samples=(\\d+\\.\\d+), min_samples_leaf=(\\d+), min_samples_split=(\\d+), n_estimators=(\\d+);, score=(\\d+\\.\\d+) total time=\\s+(\\d+\\.\\d+)s\"\n",
    "    match = re.search(pattern, data_string)\n",
    "    if match:\n",
    "        ccp_alpha = float(match.group(1))\n",
    "        max_samples = float(match.group(2))\n",
    "        min_samples_leaf = int(match.group(3))\n",
    "        min_samples_split = int(match.group(4))\n",
    "        n_estimators = int(match.group(5))\n",
    "        score = float(match.group(6))\n",
    "        total_time = float(match.group(7))\n",
    "        return {\n",
    "            \"ccp_alpha\": ccp_alpha,\n",
    "            \"max_samples\": max_samples,\n",
    "            \"min_samples_leaf\": min_samples_leaf,\n",
    "            \"min_samples_split\": min_samples_split,\n",
    "            \"n_estimators\": n_estimators,\n",
    "            \"score\": score,\n",
    "            \"total_time\": total_time\n",
    "        }\n",
    "    else:\n",
    "        return None\n",
    "\n",
    "data = list()\n",
    "for line in string.split('\\n'):\n",
    "    parsed_data = parse_data(line)\n",
    "    if parsed_data:\n",
    "        data.append(parsed_data)"
   ]
  },
  {
   "cell_type": "code",
   "execution_count": null,
   "metadata": {},
   "outputs": [],
   "source": [
    "from pandas import DataFrame\n",
    "df = DataFrame(data)\n",
    "df"
   ]
  },
  {
   "cell_type": "code",
   "execution_count": null,
   "metadata": {},
   "outputs": [],
   "source": [
    "df = DataFrame(df.groupby(['ccp_alpha', 'max_samples', 'min_samples_leaf', 'min_samples_split', 'n_estimators'])['score'].mean())\n",
    "df.reset_index(inplace=True)\n",
    "df.rename(columns={'score': 'mean_test_score'}, inplace=True)\n",
    "\n",
    "\n",
    "df.to_csv(f'{name}.csv', index=False)\n",
    "df"
   ]
  }
 ],
 "metadata": {
  "kernelspec": {
   "display_name": "Python 3",
   "language": "python",
   "name": "python3"
  },
  "language_info": {
   "codemirror_mode": {
    "name": "ipython",
    "version": 3
   },
   "file_extension": ".py",
   "mimetype": "text/x-python",
   "name": "python",
   "nbconvert_exporter": "python",
   "pygments_lexer": "ipython3",
   "version": "3.10.12"
  }
 },
 "nbformat": 4,
 "nbformat_minor": 2
}
